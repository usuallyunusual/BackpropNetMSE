{
 "cells": [
  {
   "cell_type": "code",
   "execution_count": 306,
   "metadata": {},
   "outputs": [],
   "source": [
    "import numpy as np\n",
    "import matplotlib.pyplot as plt"
   ]
  },
  {
   "cell_type": "code",
   "execution_count": 307,
   "metadata": {},
   "outputs": [],
   "source": [
    "layer_dims = [3,3,1]\n",
    "X = np.array([[1,1,1],[1,1,0],[1,0,1],[1,0,0],[0,1,1],[0,1,0],[0,0,1],[0,0,0]])\n",
    "Y = np.array([1,1,1,1,1,1,1,0])"
   ]
  },
  {
   "cell_type": "code",
   "execution_count": 316,
   "metadata": {},
   "outputs": [],
   "source": [
    "def init_weight(layer_dims):\n",
    "    parameters = {}\n",
    "    for i in range(1,len(layer_dims)):\n",
    "        parameters['W'+str(i)] = np.random.randn(layer_dims[i],layer_dims[i-1])*(np.sqrt(2/layer_dims[i-1]))\n",
    "        parameters['b'+str(i)] = np.zeros([layer_dims[i],1])\n",
    "    return parameters\n",
    "parameters = init_weight(layer_dims)\n",
    "\n",
    "def sigmoid(X):\n",
    "    return 1/(1+np.exp(-X))\n",
    "\n",
    "def forward(X,parameters):\n",
    "    W1 = parameters['W1']\n",
    "    b1 = parameters['b1']\n",
    "    W2 = parameters['W2']\n",
    "    b2 = parameters['b2']\n",
    "    \n",
    "    z1 = np.dot(W1,X.T) + b1\n",
    "    a1 = sigmoid(z1)\n",
    "    \n",
    "    z2 = np.dot(W2,a1) + b2\n",
    "    a2 = sigmoid(z2)\n",
    "    \n",
    "    cache = (z1,a1,z2,a2)\n",
    "    return cache,a2\n",
    "\n",
    "def backprop(parameters,cache,Y,X):\n",
    "    (z1,a1,z2,a2)  = cache\n",
    "    \n",
    "    da2 = (1/Y.shape[0])*(a2 - Y)\n",
    "    dz2 = da2*sigmoid(z2)*(1-sigmoid(z2))\n",
    "    dw2 = np.dot(dz2,a1.T)\n",
    "    db2 = np.sum(dz2, axis=1, keepdims = True)\n",
    "    \n",
    "    da1 = np.dot(dw2.T,dz2)\n",
    "    dz1 = da1*sigmoid(z1)*(1-sigmoid(z1))\n",
    "    dw1 = np.dot(dz1,X)\n",
    "    db1 = np.sum(dz1,axis = 1, keepdims = True)\n",
    "    \n",
    "    grads = {'dz2':dz2,'dw2':dw2,'db2':db2,'da1':da1,'dz1':dz1,'dw1':dw1,'db1':db1}\n",
    "    return grads\n",
    "\n",
    "def update(parameters,grads,learning_rate):\n",
    "    parameters[\"W2\"] = parameters[\"W2\"] - learning_rate * grads[\"dw2\"]\n",
    "    parameters[\"b2\"] = parameters[\"b2\"] - learning_rate * grads[\"db2\"]\n",
    "    parameters[\"W1\"] = parameters[\"W1\"] - learning_rate * grads[\"dw1\"]\n",
    "    parameters[\"b1\"] = parameters[\"b1\"] - learning_rate * grads[\"db1\"]\n",
    "    return parameters\n",
    "\n",
    "def cost(a2,Y):\n",
    "    error = (1/(2*Y.shape[0]))*np.sum(np.power((Y - a2),2))\n",
    "    return error\n",
    "\n",
    "def predict(X,parameters):\n",
    "    W1 = parameters['W1']\n",
    "    b1 = parameters['b1']\n",
    "    W2 = parameters['W2']\n",
    "    b2 = parameters['b2']\n",
    "    cache,a2 = forward(X,parameters)\n",
    "    a2 = (a2 > 0.5).astype(int)\n",
    "    return a2\n",
    "                                        \n",
    "\n",
    "    \n",
    "        "
   ]
  },
  {
   "cell_type": "code",
   "execution_count": 334,
   "metadata": {},
   "outputs": [],
   "source": [
    "def train(X,Y,layer_dims,learning_rate):\n",
    "    costn = []\n",
    "    parameters = init_weight(layer_dims)\n",
    "    for i in range(0,900):\n",
    "        cache,a2 = forward(X,parameters)\n",
    "        costn.append((cost(a2,Y)))\n",
    "        grads = backprop(parameters,cache,Y,X)\n",
    "        parameters = update(parameters,grads,learning_rate)\n",
    "    return costn,parameters\n",
    "    \n",
    "    \n",
    "    "
   ]
  },
  {
   "cell_type": "code",
   "execution_count": 335,
   "metadata": {},
   "outputs": [],
   "source": [
    "costn,parameters = train(X,Y,layer_dims,0.5)"
   ]
  },
  {
   "cell_type": "code",
   "execution_count": 336,
   "metadata": {},
   "outputs": [
    {
     "data": {
      "text/plain": [
       "[<matplotlib.lines.Line2D at 0x1f2f4446808>]"
      ]
     },
     "execution_count": 336,
     "metadata": {},
     "output_type": "execute_result"
    },
    {
     "data": {
      "image/png": "[encoded data removed]",
      "text/plain": [
       "<Figure size 432x288 with 1 Axes>"
      ]
     },
     "metadata": {
      "needs_background": "light"
     },
     "output_type": "display_data"
    }
   ],
   "source": [
    "plt.plot(np.linspace(1,900,900),costn)"
   ]
  },
  {
   "cell_type": "code",
   "execution_count": 337,
   "metadata": {},
   "outputs": [
    {
     "data": {
      "text/plain": [
       "0.054589172022115176"
      ]
     },
     "execution_count": 337,
     "metadata": {},
     "output_type": "execute_result"
    }
   ],
   "source": [
    "costn[-1]"
   ]
  },
  {
   "cell_type": "code",
   "execution_count": 338,
   "metadata": {},
   "outputs": [
    {
     "name": "stdout",
     "output_type": "stream",
     "text": [
      "87.5\n"
     ]
    }
   ],
   "source": [
    "accuracy = (np.sum(1*(Y == predict(X,parameters)))/8)*100\n",
    "print(accuracy)"
   ]
  },
  {
   "cell_type": "code",
   "execution_count": null,
   "metadata": {},
   "outputs": [],
   "source": []
  },
  {
   "cell_type": "code",
   "execution_count": null,
   "metadata": {},
   "outputs": [],
   "source": []
  }
 ],
 "metadata": {
  "kernelspec": {
   "display_name": "Python 3",
   "language": "python",
   "name": "python3"
  },
  "language_info": {
   "codemirror_mode": {
    "name": "ipython",
    "version": 3
   },
   "file_extension": ".py",
   "mimetype": "text/x-python",
   "name": "python",
   "nbconvert_exporter": "python",
   "pygments_lexer": "ipython3",
   "version": "3.7.6"
  }
 },
 "nbformat": 4,
 "nbformat_minor": 4
}
